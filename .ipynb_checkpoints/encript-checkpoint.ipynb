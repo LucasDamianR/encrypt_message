{
 "cells": [
  {
   "cell_type": "code",
   "execution_count": 2,
   "id": "1c48f3c8",
   "metadata": {},
   "outputs": [
    {
     "name": "stdout",
     "output_type": "stream",
     "text": [
      "Collecting pycryptodome\n",
      "  Downloading pycryptodome-3.12.0-cp35-abi3-win_amd64.whl (1.8 MB)\n",
      "Installing collected packages: pycryptodome\n",
      "Successfully installed pycryptodome-3.12.0\n"
     ]
    }
   ],
   "source": [
    "!pip install pycryptodome"
   ]
  },
  {
   "cell_type": "code",
   "execution_count": 3,
   "id": "e87a8039",
   "metadata": {},
   "outputs": [],
   "source": [
    "from Crypto.PublicKey import RSA\n",
    "\n",
    "#########################################################\n",
    "#                GENERACIÓN DE LA CLAVE                 #\n",
    "#########################################################\n",
    "\n",
    "# Generar pareja de claves RSA de 2048 bits de longitud\n",
    "key = RSA.generate(2048)\n",
    "\n",
    "# Passphrase para encriptar la clave privada\n",
    "secret_code = \"12345\"\n",
    "\n",
    "# Exportamos la clave privada\n",
    "private_key = key.export_key(passphrase=secret_code)\n",
    "\n",
    "# Guardamos la clave privada en un fichero\n",
    "with open(\"private.pem\", \"wb\") as f:\n",
    "    f.write(private_key)\n",
    "\n",
    "# Obtenemos la clave pública\n",
    "public_key = key.publickey().export_key()\n",
    "\n",
    "# Guardamos la clave pública en otro fichero\n",
    "with open(\"public.pem\", \"wb\") as f:\n",
    "    f.write(public_key)"
   ]
  },
  {
   "cell_type": "code",
   "execution_count": null,
   "id": "958563ec",
   "metadata": {},
   "outputs": [],
   "source": []
  },
  {
   "cell_type": "code",
   "execution_count": 7,
   "id": "6ff4f27d",
   "metadata": {},
   "outputs": [
    {
     "name": "stdout",
     "output_type": "stream",
     "text": [
      "b\"b\\xd1%\\x9d/\\x84\\xc6\\x07TM\\x9f\\xa6/\\xcc[3\\xd6\\x97*}\\xfb\\n\\xcf\\x08\\x84\\xd1\\xbc\\x86m\\x1b\\x952BK=4\\xd5\\xaa\\xd9\\x96\\rH\\xb5X \\xd0\\x01\\xec\\x8d\\x13\\x86\\xfe\\x90\\x81o\\xc6A\\xffN\\xbb\\xd5#\\x80U)-l\\nj \\xa0\\xe9\\x13\\xb5S\\x01\\xdb\\x9f\\xeaM\\xf9\\xbf _@\\x82\\xce\\xf8-Z\\xe8y8\\x02o\\xf4@a\\x8f\\xa1\\x13\\xac\\xf9\\x08\\x94\\xd3\\xa5\\xc8\\xae\\xd5\\x85%\\x01\\x9fS\\xf0\\xf00\\xab\\r\\x1e\\x07=\\x18\\x95\\xae\\xa2\\xdb\\xf6tg\\x83\\xce\\xe3\\xa0\\xd0)O\\x0b\\x92\\x02~f\\xa4\\x104\\t_\\xf3=\\x04\\t7\\x16\\xae\\xc0\\xc6|\\xafC\\xa2\\x86\\x9d\\x82\\xf3*\\x93\\x89?\\xbe\\xfd?\\xe2\\x98L\\xb6\\xcf%\\x12F\\xa23\\x06\\xde\\x9e\\xf9\\x98\\x12Fg\\xd7\\xab\\xcc\\x19\\xf3e_\\xeb\\xa2\\x003r\\xe2\\x84\\xa5\\xb8\\xbe#\\x06\\xcf\\xd3\\xaf\\x18\\x89\\xdfe\\x9f,\\xaew6\\xe0\\x84\\x0b\\xca\\x84 )\\xb9\\x12\\x12\\xb7\\x82\\x19\\xbeW\\xdaN\\xd8\\x16'\\xc2\\x90k\\xd3:%\\x1c\\x0b\\xdf\\xf3D\\xfc\\xc3\\xe2B\\xb9Ml#\\xd4\\x8d\\xb3\\xa6\\x88\\x9f}\\xf2L\\x83\\xadm\\x9a\\x02Y\\xc1*5\\xdb\\x87\\x0b\\xc3\\xc7 4:+\\xd2\\xebv\\xcd]\\x8c^cx\\xd2\\xacy9\\xf4\\xcaD\\xe3Y\\x12\\xbd\\xb2\\xba=\\xb8\\xf3\\xd7\\xe1\\xa1,1\\x90\"\n"
     ]
    }
   ],
   "source": [
    "import io\n",
    "from Crypto.PublicKey import RSA\n",
    "from Crypto.Random import get_random_bytes\n",
    "from Crypto.Cipher import AES, PKCS1_OAEP\n",
    "\n",
    "#########################################################\n",
    "#                        CIFRADO                        #\n",
    "#########################################################\n",
    "# Cadena UTF-8 a encriptar\n",
    "cadena = \"Hola StackOverflow en español\"\n",
    "\n",
    "# Trabajamos con bytes, codifcamos la cadena.\n",
    "bin_data = cadena.encode(\"utf-8\")\n",
    "\n",
    "# Leemos el archivo con la clave publica\n",
    "with open(\"public.pem\", \"rb\") as f:\n",
    "    recipient_key = f.read()\n",
    "\n",
    "# Cargamos la clave pública (instancia de clase RSA)\n",
    "key = RSA.importKey(recipient_key)\n",
    "\n",
    "# Instancia del cifrador asimétrico\n",
    "cipher_rsa = PKCS1_OAEP.new(key)\n",
    "\n",
    "# Generamos una clave para el cifrado simétrico\n",
    "aes_key = get_random_bytes(16)\n",
    "\n",
    "# Encriptamos la clave del cifrado simétrico con la clave pública RSA\n",
    "enc_aes_key = cipher_rsa.encrypt(aes_key)\n",
    "\n",
    "# Encriptamos los datos mediante cifrado simétrico (AES en este caso)\n",
    "cipher_aes = AES.new(aes_key, AES.MODE_EAX)\n",
    "ciphertext, tag = cipher_aes.encrypt_and_digest(bin_data)\n",
    "\n",
    "# Concatenamos la clave simétrica cifrada a los datoscifrados con ella\n",
    "enc_data = b\"\".join((enc_aes_key, cipher_aes.nonce, tag, ciphertext))\n",
    "print(enc_data)\n",
    "# b'\\x0f_r\\xcd5%\\x9a\\x9bA\\x14\\xcdZ\\xa9sl\\'\\x9d\\xab\\xea\\xd2^1"
   ]
  },
  {
   "cell_type": "code",
   "execution_count": 24,
   "id": "5da5c39c",
   "metadata": {},
   "outputs": [],
   "source": [
    "with open(\"msj.crp\", \"wb\") as f:\n",
    "    f.write(enc_data)"
   ]
  },
  {
   "cell_type": "code",
   "execution_count": 27,
   "id": "afbd737b",
   "metadata": {},
   "outputs": [
    {
     "data": {
      "text/plain": [
       "'C:\\\\Users\\\\lrojas\\\\encriptacion'"
      ]
     },
     "execution_count": 27,
     "metadata": {},
     "output_type": "execute_result"
    }
   ],
   "source": [
    "import os\n",
    "os.getcwd()"
   ]
  },
  {
   "cell_type": "code",
   "execution_count": 26,
   "id": "0bc057f5",
   "metadata": {},
   "outputs": [
    {
     "name": "stdout",
     "output_type": "stream",
     "text": [
      "Hola StackOverflow en español\n"
     ]
    }
   ],
   "source": [
    "#########################################################\n",
    "#                     DESCIFRADO                        #\n",
    "#########################################################\n",
    "\n",
    "# Emulamos un fichero con nuestra cadena porque el método read facilita\n",
    "with open(\"msj.crp\", \"rb\") as f:\n",
    "    enc_data = f.read()\n",
    "    \n",
    "# la división de cada parte de la cadena (datos y clave AES encriptada).\n",
    "# Podríamos también obtenerlos simplemente mediante slicing de la cadena\n",
    "data_file = io.BytesIO(enc_data)\n",
    "\n",
    "# Leemos el archivo con la clave privada\n",
    "with open(\"keys/private.pem\", \"rb\") as f:\n",
    "    recipient_key = f.read()\n",
    "\n",
    "# Cargamos la clave pública (instancia de clase RSA)\n",
    "key = RSA.importKey(recipient_key,  passphrase=\"12345\")\n",
    "\n",
    "# Instancia del cifrador asimétrico\n",
    "cipher_rsa = PKCS1_OAEP.new(key)\n",
    "\n",
    "# Separamos las distintas partes de la cadena cifrada\n",
    "enc_aes_key, nonce, tag, ciphertext =\\\n",
    "    (data_file.read(c) for c in (key.size_in_bytes(), 16, 16, -1))\n",
    "\n",
    "# Desencriptamos la clave AES mediante la clave privada RSA\n",
    "aes_key = cipher_rsa.decrypt(enc_aes_key)\n",
    "\n",
    "# Desencriptamos los datos en si con la clave AES\n",
    "cipher_aes = AES.new(aes_key, AES.MODE_EAX, nonce)\n",
    "data = cipher_aes.decrypt_and_verify(ciphertext, tag)\n",
    "\n",
    "# Decodificamos la cadena\n",
    "cadena = data.decode(\"utf-8\")\n",
    "print(cadena)\n",
    "#Hola StackOverflow en español "
   ]
  },
  {
   "cell_type": "code",
   "execution_count": null,
   "id": "73d6642c",
   "metadata": {},
   "outputs": [],
   "source": []
  },
  {
   "cell_type": "code",
   "execution_count": 19,
   "id": "aa5dee03",
   "metadata": {
    "scrolled": false
   },
   "outputs": [
    {
     "name": "stderr",
     "output_type": "stream",
     "text": [
      "[NbConvertApp] Converting notebook encript.ipynb to script\n",
      "[NbConvertApp] Writing 3541 bytes to encript.py\n"
     ]
    }
   ],
   "source": [
    "!jupyter nbconvert --to script encript.ipynb"
   ]
  },
  {
   "cell_type": "code",
   "execution_count": 28,
   "id": "cea33053",
   "metadata": {},
   "outputs": [],
   "source": [
    "import os\n",
    "import shutil\n",
    "\n",
    "\n",
    "#########################################################\n",
    "#                GENERACIÓN DE LA CLAVE                 #\n",
    "#########################################################\n",
    "\n",
    "#Crear directorio keys\n",
    "keys_folder = os.path.abspath('keys')\n",
    "\n"
   ]
  },
  {
   "cell_type": "code",
   "execution_count": 30,
   "id": "bdb4ed0e",
   "metadata": {},
   "outputs": [
    {
     "data": {
      "text/plain": [
       "'C:\\\\Users\\\\lrojas\\\\encriptacion\\\\keys'"
      ]
     },
     "execution_count": 30,
     "metadata": {},
     "output_type": "execute_result"
    }
   ],
   "source": [
    "keys_folder"
   ]
  },
  {
   "cell_type": "code",
   "execution_count": 31,
   "id": "04e99f48",
   "metadata": {},
   "outputs": [
    {
     "data": {
      "text/plain": [
       "'C:\\\\Users\\\\lrojas\\\\encriptacion\\\\keys\\\\public.pem'"
      ]
     },
     "execution_count": 31,
     "metadata": {},
     "output_type": "execute_result"
    }
   ],
   "source": [
    "keys_folder+\"\\\\public.pem\""
   ]
  },
  {
   "cell_type": "code",
   "execution_count": null,
   "id": "cdcbe1a6",
   "metadata": {},
   "outputs": [],
   "source": []
  },
  {
   "cell_type": "code",
   "execution_count": null,
   "id": "f881113b",
   "metadata": {},
   "outputs": [],
   "source": []
  },
  {
   "cell_type": "code",
   "execution_count": 1,
   "id": "8897ff29",
   "metadata": {},
   "outputs": [],
   "source": [
    "#!/usr/bin/env python\n",
    "# coding: utf-8\n",
    "\n",
    "from Crypto.PublicKey import RSA\n",
    "import os\n",
    "import shutil\n",
    "\n",
    "\n",
    "#########################################################\n",
    "#                GENERACIÓN DE LA CLAVE                 #\n",
    "#########################################################\n",
    "\n",
    "#Crear directorio keys\n",
    "keys_folder = os.path.abspath('keys')\n",
    "\n",
    "# Guardamos la clave privada en un fichero\n",
    "#with open(\"C:/Users/lrojas/encriptacion/keys/private.pem\", \"wb\") as f:\n",
    "#    f.write(private_key)\n",
    "\n",
    "# Guardamos la clave pública en otro fichero\n",
    "#with open(\"C:/Users/lrojas/encriptacion/keys/public.pem\", \"wb\") as f:\n",
    "#    f.write(public_key)\n",
    "\n"
   ]
  },
  {
   "cell_type": "code",
   "execution_count": 12,
   "id": "470f5679",
   "metadata": {},
   "outputs": [
    {
     "data": {
      "text/plain": [
       "'C:\\\\Users\\\\lrojas\\\\encriptacion\\\\keys\\\\private.pem'"
      ]
     },
     "execution_count": 12,
     "metadata": {},
     "output_type": "execute_result"
    }
   ],
   "source": []
  },
  {
   "cell_type": "code",
   "execution_count": 11,
   "id": "394991be",
   "metadata": {},
   "outputs": [
    {
     "data": {
      "text/plain": [
       "('C:/Users/lrojas/encriptacion/keys/private.pem',\n",
       " 'C:/Users/lrojas/encriptacion/keys/private.pem')"
      ]
     },
     "execution_count": 11,
     "metadata": {},
     "output_type": "execute_result"
    }
   ],
   "source": [
    "'C:/Users/lrojas/encriptacion/keys/private.pem',\"C:/Users/lrojas/encriptacion/keys/private.pem\"\n"
   ]
  },
  {
   "cell_type": "code",
   "execution_count": 14,
   "id": "ad5dabe5",
   "metadata": {},
   "outputs": [
    {
     "data": {
      "text/plain": [
       "'C:\\\\Users\\\\lrojas\\\\encriptacion\\\\keys.crp'"
      ]
     },
     "execution_count": 14,
     "metadata": {},
     "output_type": "execute_result"
    }
   ],
   "source": [
    "os.path.abspath('keys.crp')"
   ]
  },
  {
   "cell_type": "code",
   "execution_count": 15,
   "id": "394cce2c",
   "metadata": {},
   "outputs": [],
   "source": [
    "keys_folder = os.path.abspath('keys')\n",
    "\n",
    "# if os.path.isdir(keys_folder):\n",
    "# # sí existe, borrar el contenido\n",
    "#     shutil.rmtree(keys_folder)\n",
    "#     print('The keys have been cleaned')\n",
    "# else:\n",
    "#     os.mkdir(keys_folder)\n"
   ]
  },
  {
   "cell_type": "code",
   "execution_count": 20,
   "id": "5ddfab3a",
   "metadata": {},
   "outputs": [
    {
     "data": {
      "text/plain": [
       "True"
      ]
     },
     "execution_count": 20,
     "metadata": {},
     "output_type": "execute_result"
    }
   ],
   "source": [
    "os.path.isdir(keys_folder)"
   ]
  },
  {
   "cell_type": "code",
   "execution_count": 19,
   "id": "7e1560ab",
   "metadata": {},
   "outputs": [
    {
     "data": {
      "text/plain": [
       "['private.pem', 'public.pem']"
      ]
     },
     "execution_count": 19,
     "metadata": {},
     "output_type": "execute_result"
    }
   ],
   "source": [
    "os.listdir(keys_folder)"
   ]
  },
  {
   "cell_type": "code",
   "execution_count": 22,
   "id": "ded64966",
   "metadata": {},
   "outputs": [],
   "source": [
    "!conda list -e > requirements.txt"
   ]
  },
  {
   "cell_type": "code",
   "execution_count": null,
   "id": "bdb3bde7",
   "metadata": {},
   "outputs": [],
   "source": []
  }
 ],
 "metadata": {
  "kernelspec": {
   "display_name": "Python 3",
   "language": "python",
   "name": "python3"
  },
  "language_info": {
   "codemirror_mode": {
    "name": "ipython",
    "version": 3
   },
   "file_extension": ".py",
   "mimetype": "text/x-python",
   "name": "python",
   "nbconvert_exporter": "python",
   "pygments_lexer": "ipython3",
   "version": "3.8.8"
  }
 },
 "nbformat": 4,
 "nbformat_minor": 5
}
